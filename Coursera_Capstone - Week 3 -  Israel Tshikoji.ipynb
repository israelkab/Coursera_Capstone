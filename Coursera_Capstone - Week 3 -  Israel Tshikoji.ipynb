{
 "cells": [
  {
   "cell_type": "markdown",
   "id": "6d845ccd-e276-4c70-912e-3109ddbf5930",
   "metadata": {},
   "source": [
    "IBM DATA SCIENCE PROFESSIONAL CERTIFICATE - CAPSTONE PROJECT"
   ]
  },
  {
   "cell_type": "markdown",
   "id": "2304b212-8294-48c5-9f0f-0f0d2799115e",
   "metadata": {},
   "source": [
    "This notebook will be used for the capstone project"
   ]
  },
  {
   "cell_type": "code",
   "execution_count": 2,
   "id": "4f9e018e-3063-436d-ab7f-030c46c95501",
   "metadata": {},
   "outputs": [],
   "source": [
    "#importing necessary libraries\n",
    "import pandas as pd\n",
    "import numpy as np"
   ]
  },
  {
   "cell_type": "code",
   "execution_count": 3,
   "id": "938544e7-0f81-4888-8d89-f35a38b4e71c",
   "metadata": {},
   "outputs": [
    {
     "name": "stdout",
     "output_type": "stream",
     "text": [
      "Hello Capstone Project Course!\n"
     ]
    }
   ],
   "source": [
    "print(\"Hello Capstone Project Course!\")"
   ]
  },
  {
   "cell_type": "code",
   "execution_count": null,
   "id": "f7dad84b-e7e9-430d-9998-c41496f3de51",
   "metadata": {},
   "outputs": [],
   "source": []
  }
 ],
 "metadata": {
  "kernelspec": {
   "display_name": "Python",
   "language": "python",
   "name": "conda-env-python-py"
  },
  "language_info": {
   "codemirror_mode": {
    "name": "ipython",
    "version": 3
   },
   "file_extension": ".py",
   "mimetype": "text/x-python",
   "name": "python",
   "nbconvert_exporter": "python",
   "pygments_lexer": "ipython3",
   "version": "3.6.13"
  }
 },
 "nbformat": 4,
 "nbformat_minor": 5
}
